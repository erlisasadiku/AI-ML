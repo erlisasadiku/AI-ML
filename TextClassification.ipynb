{
 "cells": [
  {
   "cell_type": "markdown",
   "id": "76cd7203",
   "metadata": {},
   "source": [
    "## Text Classification Task"
   ]
  },
  {
   "cell_type": "code",
   "execution_count": 1,
   "id": "2d218b28",
   "metadata": {},
   "outputs": [],
   "source": [
    "import pandas as pd\n",
    "import matplotlib.pyplot as plt\n",
    "import numpy as np\n",
    "import re\n",
    "from sklearn.feature_extraction.text import TfidfVectorizer\n",
    "import nltk\n",
    "\n",
    "from nltk.stem import PorterStemmer\n",
    "from nltk.corpus import stopwords\n",
    "from sklearn.preprocessing import LabelEncoder\n",
    "from sklearn.model_selection import train_test_split\n",
    "\n",
    "from sklearn.naive_bayes import MultinomialNB\n",
    "from sklearn.metrics import accuracy_score, classification_report, confusion_matrix\n",
    "from sklearn.linear_model import LogisticRegression\n",
    "\n",
    "from sklearn.metrics import ConfusionMatrixDisplay"
   ]
  },
  {
   "cell_type": "markdown",
   "id": "beef59d5",
   "metadata": {},
   "source": [
    "### Data Preparation"
   ]
  },
  {
   "cell_type": "code",
   "execution_count": 2,
   "id": "c3d952be",
   "metadata": {},
   "outputs": [],
   "source": [
    "df = pd.read_csv('https://raw.githubusercontent.com/codehax41/BBC-Text-Classification/master/bbc-text.csv')"
   ]
  },
  {
   "cell_type": "code",
   "execution_count": 3,
   "id": "8f38f09a",
   "metadata": {},
   "outputs": [
    {
     "data": {
      "text/html": [
       "<div>\n",
       "<style scoped>\n",
       "    .dataframe tbody tr th:only-of-type {\n",
       "        vertical-align: middle;\n",
       "    }\n",
       "\n",
       "    .dataframe tbody tr th {\n",
       "        vertical-align: top;\n",
       "    }\n",
       "\n",
       "    .dataframe thead th {\n",
       "        text-align: right;\n",
       "    }\n",
       "</style>\n",
       "<table border=\"1\" class=\"dataframe\">\n",
       "  <thead>\n",
       "    <tr style=\"text-align: right;\">\n",
       "      <th></th>\n",
       "      <th>category</th>\n",
       "      <th>text</th>\n",
       "    </tr>\n",
       "  </thead>\n",
       "  <tbody>\n",
       "    <tr>\n",
       "      <th>0</th>\n",
       "      <td>tech</td>\n",
       "      <td>tv future in the hands of viewers with home th...</td>\n",
       "    </tr>\n",
       "    <tr>\n",
       "      <th>1</th>\n",
       "      <td>business</td>\n",
       "      <td>worldcom boss  left books alone  former worldc...</td>\n",
       "    </tr>\n",
       "    <tr>\n",
       "      <th>2</th>\n",
       "      <td>sport</td>\n",
       "      <td>tigers wary of farrell  gamble  leicester say ...</td>\n",
       "    </tr>\n",
       "    <tr>\n",
       "      <th>3</th>\n",
       "      <td>sport</td>\n",
       "      <td>yeading face newcastle in fa cup premiership s...</td>\n",
       "    </tr>\n",
       "    <tr>\n",
       "      <th>4</th>\n",
       "      <td>entertainment</td>\n",
       "      <td>ocean s twelve raids box office ocean s twelve...</td>\n",
       "    </tr>\n",
       "    <tr>\n",
       "      <th>...</th>\n",
       "      <td>...</td>\n",
       "      <td>...</td>\n",
       "    </tr>\n",
       "    <tr>\n",
       "      <th>2220</th>\n",
       "      <td>business</td>\n",
       "      <td>cars pull down us retail figures us retail sal...</td>\n",
       "    </tr>\n",
       "    <tr>\n",
       "      <th>2221</th>\n",
       "      <td>politics</td>\n",
       "      <td>kilroy unveils immigration policy ex-chatshow ...</td>\n",
       "    </tr>\n",
       "    <tr>\n",
       "      <th>2222</th>\n",
       "      <td>entertainment</td>\n",
       "      <td>rem announce new glasgow concert us band rem h...</td>\n",
       "    </tr>\n",
       "    <tr>\n",
       "      <th>2223</th>\n",
       "      <td>politics</td>\n",
       "      <td>how political squabbles snowball it s become c...</td>\n",
       "    </tr>\n",
       "    <tr>\n",
       "      <th>2224</th>\n",
       "      <td>sport</td>\n",
       "      <td>souness delight at euro progress boss graeme s...</td>\n",
       "    </tr>\n",
       "  </tbody>\n",
       "</table>\n",
       "<p>2225 rows × 2 columns</p>\n",
       "</div>"
      ],
      "text/plain": [
       "           category                                               text\n",
       "0              tech  tv future in the hands of viewers with home th...\n",
       "1          business  worldcom boss  left books alone  former worldc...\n",
       "2             sport  tigers wary of farrell  gamble  leicester say ...\n",
       "3             sport  yeading face newcastle in fa cup premiership s...\n",
       "4     entertainment  ocean s twelve raids box office ocean s twelve...\n",
       "...             ...                                                ...\n",
       "2220       business  cars pull down us retail figures us retail sal...\n",
       "2221       politics  kilroy unveils immigration policy ex-chatshow ...\n",
       "2222  entertainment  rem announce new glasgow concert us band rem h...\n",
       "2223       politics  how political squabbles snowball it s become c...\n",
       "2224          sport  souness delight at euro progress boss graeme s...\n",
       "\n",
       "[2225 rows x 2 columns]"
      ]
     },
     "execution_count": 3,
     "metadata": {},
     "output_type": "execute_result"
    }
   ],
   "source": [
    "df"
   ]
  },
  {
   "cell_type": "code",
   "execution_count": 4,
   "id": "aef7c260",
   "metadata": {},
   "outputs": [
    {
     "name": "stdout",
     "output_type": "stream",
     "text": [
      "category    0\n",
      "text        0\n",
      "dtype: int64\n"
     ]
    }
   ],
   "source": [
    "# Check missing values in each column\n",
    "print(df.isnull().sum())"
   ]
  },
  {
   "cell_type": "code",
   "execution_count": 5,
   "id": "c7bb3276",
   "metadata": {},
   "outputs": [
    {
     "data": {
      "text/plain": [
       "array(['tech', 'business', 'sport', 'entertainment', 'politics'],\n",
       "      dtype=object)"
      ]
     },
     "execution_count": 5,
     "metadata": {},
     "output_type": "execute_result"
    }
   ],
   "source": [
    "# Checking how many categories are\n",
    "df['category'].unique()"
   ]
  },
  {
   "cell_type": "code",
   "execution_count": 6,
   "id": "13d8471e",
   "metadata": {},
   "outputs": [],
   "source": [
    "# For modeling we need the the categories to be in numerical format\n",
    "target = {'tech': 0, 'business': 1, 'sport': 2, 'entertainment': 3, 'politics': 4}\n",
    "df['target'] = df['category'].map(target)"
   ]
  },
  {
   "cell_type": "code",
   "execution_count": 7,
   "id": "16239c94",
   "metadata": {},
   "outputs": [
    {
     "data": {
      "text/html": [
       "<div>\n",
       "<style scoped>\n",
       "    .dataframe tbody tr th:only-of-type {\n",
       "        vertical-align: middle;\n",
       "    }\n",
       "\n",
       "    .dataframe tbody tr th {\n",
       "        vertical-align: top;\n",
       "    }\n",
       "\n",
       "    .dataframe thead th {\n",
       "        text-align: right;\n",
       "    }\n",
       "</style>\n",
       "<table border=\"1\" class=\"dataframe\">\n",
       "  <thead>\n",
       "    <tr style=\"text-align: right;\">\n",
       "      <th></th>\n",
       "      <th>category</th>\n",
       "      <th>text</th>\n",
       "      <th>target</th>\n",
       "    </tr>\n",
       "  </thead>\n",
       "  <tbody>\n",
       "    <tr>\n",
       "      <th>0</th>\n",
       "      <td>tech</td>\n",
       "      <td>tv future in the hands of viewers with home th...</td>\n",
       "      <td>0</td>\n",
       "    </tr>\n",
       "    <tr>\n",
       "      <th>1</th>\n",
       "      <td>business</td>\n",
       "      <td>worldcom boss  left books alone  former worldc...</td>\n",
       "      <td>1</td>\n",
       "    </tr>\n",
       "    <tr>\n",
       "      <th>2</th>\n",
       "      <td>sport</td>\n",
       "      <td>tigers wary of farrell  gamble  leicester say ...</td>\n",
       "      <td>2</td>\n",
       "    </tr>\n",
       "    <tr>\n",
       "      <th>3</th>\n",
       "      <td>sport</td>\n",
       "      <td>yeading face newcastle in fa cup premiership s...</td>\n",
       "      <td>2</td>\n",
       "    </tr>\n",
       "    <tr>\n",
       "      <th>4</th>\n",
       "      <td>entertainment</td>\n",
       "      <td>ocean s twelve raids box office ocean s twelve...</td>\n",
       "      <td>3</td>\n",
       "    </tr>\n",
       "    <tr>\n",
       "      <th>...</th>\n",
       "      <td>...</td>\n",
       "      <td>...</td>\n",
       "      <td>...</td>\n",
       "    </tr>\n",
       "    <tr>\n",
       "      <th>2220</th>\n",
       "      <td>business</td>\n",
       "      <td>cars pull down us retail figures us retail sal...</td>\n",
       "      <td>1</td>\n",
       "    </tr>\n",
       "    <tr>\n",
       "      <th>2221</th>\n",
       "      <td>politics</td>\n",
       "      <td>kilroy unveils immigration policy ex-chatshow ...</td>\n",
       "      <td>4</td>\n",
       "    </tr>\n",
       "    <tr>\n",
       "      <th>2222</th>\n",
       "      <td>entertainment</td>\n",
       "      <td>rem announce new glasgow concert us band rem h...</td>\n",
       "      <td>3</td>\n",
       "    </tr>\n",
       "    <tr>\n",
       "      <th>2223</th>\n",
       "      <td>politics</td>\n",
       "      <td>how political squabbles snowball it s become c...</td>\n",
       "      <td>4</td>\n",
       "    </tr>\n",
       "    <tr>\n",
       "      <th>2224</th>\n",
       "      <td>sport</td>\n",
       "      <td>souness delight at euro progress boss graeme s...</td>\n",
       "      <td>2</td>\n",
       "    </tr>\n",
       "  </tbody>\n",
       "</table>\n",
       "<p>2225 rows × 3 columns</p>\n",
       "</div>"
      ],
      "text/plain": [
       "           category                                               text  target\n",
       "0              tech  tv future in the hands of viewers with home th...       0\n",
       "1          business  worldcom boss  left books alone  former worldc...       1\n",
       "2             sport  tigers wary of farrell  gamble  leicester say ...       2\n",
       "3             sport  yeading face newcastle in fa cup premiership s...       2\n",
       "4     entertainment  ocean s twelve raids box office ocean s twelve...       3\n",
       "...             ...                                                ...     ...\n",
       "2220       business  cars pull down us retail figures us retail sal...       1\n",
       "2221       politics  kilroy unveils immigration policy ex-chatshow ...       4\n",
       "2222  entertainment  rem announce new glasgow concert us band rem h...       3\n",
       "2223       politics  how political squabbles snowball it s become c...       4\n",
       "2224          sport  souness delight at euro progress boss graeme s...       2\n",
       "\n",
       "[2225 rows x 3 columns]"
      ]
     },
     "execution_count": 7,
     "metadata": {},
     "output_type": "execute_result"
    }
   ],
   "source": [
    "df"
   ]
  },
  {
   "cell_type": "code",
   "execution_count": 8,
   "id": "0023ccb1",
   "metadata": {},
   "outputs": [
    {
     "name": "stderr",
     "output_type": "stream",
     "text": [
      "[nltk_data] Downloading package stopwords to\n",
      "[nltk_data]     C:\\Users\\adiju\\AppData\\Roaming\\nltk_data...\n",
      "[nltk_data]   Package stopwords is already up-to-date!\n"
     ]
    }
   ],
   "source": [
    "nltk.download('stopwords')\n",
    "# Text preprocessing\n",
    "stemmer = PorterStemmer()\n",
    "stop_words = set(stopwords.words('english'))\n",
    "\n",
    "def clean_text(text):\n",
    "    text = text.lower()  # lowercase\n",
    "    text = re.sub(r'[^a-z\\s]', '', text)  # remove punctuation/numbers\n",
    "    text = re.sub(r'\\s+', ' ', text).strip()  # normalize whitespace\n",
    "    words = text.split()\n",
    "    words = [stemmer.stem(w) for w in words if w not in stop_words]  # stopword removal + stemming\n",
    "    return \" \".join(words)\n",
    "\n",
    "df['clean_text'] = df['text'].apply(clean_text)"
   ]
  },
  {
   "cell_type": "markdown",
   "id": "7232f36f",
   "metadata": {},
   "source": [
    "### EDA"
   ]
  },
  {
   "cell_type": "code",
   "execution_count": 9,
   "id": "8e2bcba7",
   "metadata": {},
   "outputs": [
    {
     "data": {
      "text/plain": [
       "category\n",
       "sport            511\n",
       "business         510\n",
       "politics         417\n",
       "tech             401\n",
       "entertainment    386\n",
       "Name: count, dtype: int64"
      ]
     },
     "execution_count": 9,
     "metadata": {},
     "output_type": "execute_result"
    }
   ],
   "source": [
    "# Checking the distribution of categories\n",
    "df['category'].value_counts()"
   ]
  },
  {
   "cell_type": "code",
   "execution_count": 10,
   "id": "c9067d5c",
   "metadata": {},
   "outputs": [
    {
     "data": {
      "text/plain": [
       "<Axes: xlabel='category'>"
      ]
     },
     "execution_count": 10,
     "metadata": {},
     "output_type": "execute_result"
    },
    {
     "data": {
      "image/png": "[encoded data removed]",
      "text/plain": [
       "<Figure size 500x300 with 1 Axes>"
      ]
     },
     "metadata": {},
     "output_type": "display_data"
    }
   ],
   "source": [
    "# Visualizing the distribution of categories\n",
    "df['category'].value_counts().plot(kind='bar', color='black', figsize=(5,3))"
   ]
  },
  {
   "cell_type": "code",
   "execution_count": 11,
   "id": "e2e52115",
   "metadata": {},
   "outputs": [
    {
     "data": {
      "text/plain": [
       "<Axes: xlabel='category'>"
      ]
     },
     "execution_count": 11,
     "metadata": {},
     "output_type": "execute_result"
    },
    {
     "data": {
      "image/png": "[encoded data removed]",
      "text/plain": [
       "<Figure size 500x300 with 1 Axes>"
      ]
     },
     "metadata": {},
     "output_type": "display_data"
    }
   ],
   "source": [
    "# Vizualizing text length per category\n",
    "df['text_length'] = df['text'].str.split().str.len()\n",
    "df.groupby('category')['text_length'].mean().plot(kind='bar', figsize=(5,3), color='black')"
   ]
  },
  {
   "cell_type": "markdown",
   "id": "a84cccce",
   "metadata": {},
   "source": [
    "### Model Training"
   ]
  },
  {
   "cell_type": "code",
   "execution_count": 12,
   "id": "76278753",
   "metadata": {},
   "outputs": [],
   "source": [
    "# Splitting the dataset\n",
    "X = df['clean_text']\n",
    "y = df['category']\n",
    "\n",
    "X_train, X_test, y_train, y_test = train_test_split(X, y, test_size=0.25, stratify=y, random_state=42)"
   ]
  },
  {
   "cell_type": "code",
   "execution_count": 13,
   "id": "51f25e56",
   "metadata": {},
   "outputs": [
    {
     "name": "stdout",
     "output_type": "stream",
     "text": [
      "Train size: (1668,)\n",
      "Test size: (557,)\n"
     ]
    }
   ],
   "source": [
    "print(\"Train size:\", X_train.shape)\n",
    "print(\"Test size:\", X_test.shape)"
   ]
  },
  {
   "cell_type": "code",
   "execution_count": null,
   "id": "fbebe6a2",
   "metadata": {},
   "outputs": [],
   "source": [
    "# TF-IDF Vectorization\n",
    "vectorizer = TfidfVectorizer(max_features=5000, ngram_range=(1,2))\n",
    "X_train_tfidf = vectorizer.fit_transform(X_train)\n",
    "X_test_tfidf = vectorizer.transform(X_test)\n",
    "\n",
    "# Encoding to be able to use the labels in the models\n",
    "encoder = LabelEncoder()\n",
    "y_train_enc = encoder.fit_transform(y_train)\n",
    "y_test_enc = encoder.transform(y_test)"
   ]
  },
  {
   "cell_type": "markdown",
   "id": "2ea49843",
   "metadata": {},
   "source": [
    "#### First model: Logistic Regression"
   ]
  },
  {
   "cell_type": "code",
   "execution_count": 15,
   "id": "8f589b42",
   "metadata": {},
   "outputs": [
    {
     "name": "stdout",
     "output_type": "stream",
     "text": [
      "Logistic Regression Accuracy: 0.9784560143626571\n",
      "               precision    recall  f1-score   support\n",
      "\n",
      "     business       0.96      0.97      0.96       128\n",
      "entertainment       0.98      0.99      0.98        97\n",
      "     politics       0.98      0.96      0.97       104\n",
      "        sport       1.00      1.00      1.00       128\n",
      "         tech       0.97      0.97      0.97       100\n",
      "\n",
      "     accuracy                           0.98       557\n",
      "    macro avg       0.98      0.98      0.98       557\n",
      " weighted avg       0.98      0.98      0.98       557\n",
      "\n"
     ]
    }
   ],
   "source": [
    "logReg = LogisticRegression(max_iter=1000)\n",
    "# Train\n",
    "logReg.fit(X_train_tfidf, y_train_enc)\n",
    "# Predict\n",
    "y_pred_logReg = logReg.predict(X_test_tfidf)\n",
    "\n",
    "print(\"Logistic Regression Accuracy:\", accuracy_score(y_test_enc, y_pred_logReg))\n",
    "print(classification_report(y_test_enc, y_pred_logReg, target_names=encoder.classes_))"
   ]
  },
  {
   "cell_type": "markdown",
   "id": "67ae1a47",
   "metadata": {},
   "source": [
    "Confusion Matrix"
   ]
  },
  {
   "cell_type": "code",
   "execution_count": 16,
   "id": "05cd9b93",
   "metadata": {},
   "outputs": [
    {
     "data": {
      "image/png": "[encoded data removed]",
      "text/plain": [
       "<Figure size 640x480 with 2 Axes>"
      ]
     },
     "metadata": {},
     "output_type": "display_data"
    }
   ],
   "source": [
    "# Confusion Matrix\n",
    "cm_lr = confusion_matrix(y_test_enc, y_pred_logReg)\n",
    "\n",
    "# Normalize rows to percentages\n",
    "cm_percent = cm_lr.astype('float') / cm_lr.sum(axis=1)[:, np.newaxis]\n",
    "\n",
    "# Display matrix\n",
    "display_cm_lr = ConfusionMatrixDisplay(confusion_matrix=cm_percent, display_labels=encoder.classes_)\n",
    "display_cm_lr.plot(cmap='Reds', values_format='.2f')\n",
    "\n",
    "plt.title(\"Logistic Regression Confusion Matrix\")\n",
    "plt.show()"
   ]
  },
  {
   "cell_type": "markdown",
   "id": "fb6eb825",
   "metadata": {},
   "source": [
    "#### Second model: Naive Bayes"
   ]
  },
  {
   "cell_type": "code",
   "execution_count": 17,
   "id": "83286657",
   "metadata": {},
   "outputs": [
    {
     "name": "stdout",
     "output_type": "stream",
     "text": [
      "Naive Bayes Accuracy: 0.9766606822262118\n",
      "               precision    recall  f1-score   support\n",
      "\n",
      "     business       0.96      0.96      0.96       128\n",
      "entertainment       0.99      0.95      0.97        97\n",
      "     politics       0.96      0.99      0.98       104\n",
      "        sport       1.00      1.00      1.00       128\n",
      "         tech       0.97      0.98      0.98       100\n",
      "\n",
      "     accuracy                           0.98       557\n",
      "    macro avg       0.98      0.98      0.98       557\n",
      " weighted avg       0.98      0.98      0.98       557\n",
      "\n"
     ]
    }
   ],
   "source": [
    "nBayes = MultinomialNB()\n",
    "\n",
    "# Train the model\n",
    "nBayes.fit(X_train_tfidf, y_train_enc)\n",
    "\n",
    "# Make predictions\n",
    "y_pred_nBayes = nBayes.predict(X_test_tfidf)\n",
    "\n",
    "print(\"Naive Bayes Accuracy:\", accuracy_score(y_test_enc, y_pred_nBayes))\n",
    "print(classification_report(y_test_enc, y_pred_nBayes, target_names=encoder.classes_))"
   ]
  },
  {
   "cell_type": "markdown",
   "id": "ae25e82b",
   "metadata": {},
   "source": [
    "Confussion Matrix"
   ]
  },
  {
   "cell_type": "code",
   "execution_count": 18,
   "id": "89dd3517",
   "metadata": {},
   "outputs": [
    {
     "data": {
      "image/png": "[encoded data removed]",
      "text/plain": [
       "<Figure size 640x480 with 2 Axes>"
      ]
     },
     "metadata": {},
     "output_type": "display_data"
    }
   ],
   "source": [
    "# Confusion Matrix for Naive Bayes\n",
    "cm_nb = confusion_matrix(y_test_enc, y_pred_nBayes)\n",
    "\n",
    "# Normalize rows to percentages\n",
    "cm_percent_nb = cm_nb.astype('float') / cm_nb.sum(axis=1)[:, np.newaxis]\n",
    "\n",
    "# Display matrix\n",
    "display_cm_nb = ConfusionMatrixDisplay(confusion_matrix=cm_percent_nb, display_labels=encoder.classes_)\n",
    "display_cm_nb.plot(cmap='Reds', values_format='.2f')\n",
    "\n",
    "plt.title(\"Naive Bayes Confusion Matrix\")\n",
    "plt.show()"
   ]
  },
  {
   "cell_type": "markdown",
   "id": "7fd67747",
   "metadata": {},
   "source": [
    "#### Model Comparing"
   ]
  },
  {
   "cell_type": "markdown",
   "id": "ffbb7eba",
   "metadata": {},
   "source": [
    "Comparing side by side the accuracy score of both models, we can conclude that Logistic Regression model performed slightly better than Naive Bayes model across all categories.\n",
    "\n",
    "- Logistic Regression Accuracy:&emsp;0.9784560143626571\n",
    "- Naive Bayes Accuracy:&emsp;&emsp;&emsp;&emsp;0.9748653500897666"
   ]
  },
  {
   "cell_type": "markdown",
   "id": "95e662f8",
   "metadata": {},
   "source": [
    "### Prediction Function"
   ]
  },
  {
   "cell_type": "code",
   "execution_count": 19,
   "id": "d3ee53e9",
   "metadata": {},
   "outputs": [
    {
     "name": "stdout",
     "output_type": "stream",
     "text": [
      "Prediction from Logistic Regression model: entertainment\n",
      "Prediction from Naive Bayes model: tech\n"
     ]
    }
   ],
   "source": [
    "def predict_category(model, text, vectorizer, encoder):\n",
    "\n",
    "    # Transform input text\n",
    "    text_tfidf = vectorizer.transform([text])\n",
    "    \n",
    "    # Predict encoded label\n",
    "    pred_encoded = model.predict(text_tfidf)\n",
    "    \n",
    "    # Convert encoded label to real category name\n",
    "    pred_label = encoder.inverse_transform(pred_encoded)\n",
    "    \n",
    "    return pred_label[0]\n",
    "\n",
    "user_input = input(\"Enter a sentence to classify: \")\n",
    "\n",
    "# Logistic Regression\n",
    "predicted_category_logReg = predict_category(logReg, user_input, vectorizer, encoder)\n",
    "print(f\"Prediction from Logistic Regression model: {predicted_category_logReg}\")\n",
    "\n",
    "# Using Naive Bayes\n",
    "predicted_category_nBayes = predict_category(nBayes, user_input, vectorizer, encoder)\n",
    "print(f\"Prediction from Naive Bayes model: {predicted_category_nBayes}\")\n"
   ]
  },
  {
   "cell_type": "code",
   "execution_count": 21,
   "id": "96f47cad",
   "metadata": {},
   "outputs": [],
   "source": [
    "import pickle\n",
    "\n",
    "# Save Logistic Regression model\n",
    "with open('logReg.pkl', 'wb') as f:\n",
    "    pickle.dump(logReg, f)\n",
    "\n",
    "# Save Naive Bayes model\n",
    "with open('nBayes.pkl', 'wb') as f:\n",
    "    pickle.dump(nBayes, f)\n",
    "\n",
    "# Save TF-IDF vectorizer\n",
    "with open('vectorizer.pkl', 'wb') as f:\n",
    "    pickle.dump(vectorizer, f)\n",
    "\n",
    "# Save Label Encoder\n",
    "with open('encoder.pkl', 'wb') as f:\n",
    "    pickle.dump(encoder, f)\n"
   ]
  },
  {
   "cell_type": "code",
   "execution_count": 22,
   "id": "78e80772",
   "metadata": {},
   "outputs": [
    {
     "name": "stdout",
     "output_type": "stream",
     "text": [
      "sport\n"
     ]
    }
   ],
   "source": [
    "print(predict_category(logReg, \"Manchester United won the match!\", vectorizer, encoder))"
   ]
  }
 ],
 "metadata": {
  "kernelspec": {
   "display_name": "Python 3",
   "language": "python",
   "name": "python3"
  },
  "language_info": {
   "codemirror_mode": {
    "name": "ipython",
    "version": 3
   },
   "file_extension": ".py",
   "mimetype": "text/x-python",
   "name": "python",
   "nbconvert_exporter": "python",
   "pygments_lexer": "ipython3",
   "version": "3.13.7"
  }
 },
 "nbformat": 4,
 "nbformat_minor": 5
}
